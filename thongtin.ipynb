{
 "cells": [
  {
   "cell_type": "code",
   "execution_count": 1,
   "id": "425d2c79",
   "metadata": {},
   "outputs": [
    {
     "name": "stdout",
     "output_type": "stream",
     "text": [
      "Họ và tên : Nguyễn Công Tuân\n"
     ]
    }
   ],
   "source": [
    "print('Họ và tên : Nguyễn Công Tuân')"
   ]
  },
  {
   "cell_type": "code",
   "execution_count": 2,
   "id": "66f95521",
   "metadata": {},
   "outputs": [
    {
     "name": "stdout",
     "output_type": "stream",
     "text": [
      "Ngày sinh: 10/10/1988\n"
     ]
    }
   ],
   "source": [
    "print('Ngày sinh: 10/10/1988')"
   ]
  },
  {
   "cell_type": "code",
   "execution_count": 3,
   "id": "ab761b57",
   "metadata": {},
   "outputs": [
    {
     "name": "stdout",
     "output_type": "stream",
     "text": [
      "Địa chỉ: Bình Định\n"
     ]
    }
   ],
   "source": [
    "print('Địa chỉ: Bình Định')"
   ]
  },
  {
   "cell_type": "code",
   "execution_count": 4,
   "id": "356bf9cb",
   "metadata": {},
   "outputs": [
    {
     "name": "stdout",
     "output_type": "stream",
     "text": [
      "Mục đích đến với khoá học Python: Để học, tìm hiểu, ứng dụng về ngôn ngữ đang ngày cành phổ biến này\n"
     ]
    }
   ],
   "source": [
    "print('Mục đích đến với khoá học Python: Để học, tìm hiểu, ứng dụng về ngôn ngữ đang ngày cành phổ biến này')"
   ]
  },
  {
   "cell_type": "code",
   "execution_count": null,
   "id": "55984fad",
   "metadata": {},
   "outputs": [],
   "source": []
  }
 ],
 "metadata": {
  "kernelspec": {
   "display_name": "Python 3 (ipykernel)",
   "language": "python",
   "name": "python3"
  },
  "language_info": {
   "codemirror_mode": {
    "name": "ipython",
    "version": 3
   },
   "file_extension": ".py",
   "mimetype": "text/x-python",
   "name": "python",
   "nbconvert_exporter": "python",
   "pygments_lexer": "ipython3",
   "version": "3.9.7"
  }
 },
 "nbformat": 4,
 "nbformat_minor": 5
}
